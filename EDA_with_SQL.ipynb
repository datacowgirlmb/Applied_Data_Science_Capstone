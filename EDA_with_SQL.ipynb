{
    "cells": [
        {
            "cell_type": "markdown",
            "metadata": {},
            "source": "<center>\n    <img src=\"https://gitlab.com/ibm/skills-network/courses/placeholder101/-/raw/master/labs/module%201/images/IDSNlogo.png\"  width=\"300\" alt=\"cognitiveclass.ai logo\"  />\n</center>\n\n<h1 align=center><font size = 5>Assignment: SQL Notebook for Peer Assignment</font></h1>\n\nEstimated time needed: **60** minutes.\n\n## Introduction\n\nUsing this Python notebook you will:\n\n1.  Understand the Spacex DataSet\n2.  Load the dataset  into the corresponding table in a Db2 database\n3.  Execute SQL queries to answer assignment questions\n"
        },
        {
            "cell_type": "markdown",
            "metadata": {},
            "source": "## Overview of the DataSet\n\nSpaceX has gained worldwide attention for a series of historic milestones.\n\nIt is the only private company ever to return a spacecraft from low-earth orbit, which it first accomplished in December 2010.\nSpaceX advertises Falcon 9 rocket launches on its website with a cost of 62 million dollars wheras other providers cost upward of 165 million dollars each, much of the savings is because Space X can reuse the first stage.\n\nTherefore if we can determine if the first stage will land, we can determine the cost of a launch.\n\nThis information can be used if an alternate company wants to bid against SpaceX for a rocket launch.\n\nThis dataset includes a record for each payload carried during a SpaceX mission into outer space.\n"
        },
        {
            "cell_type": "markdown",
            "metadata": {},
            "source": "### Download the datasets\n\nThis assignment requires you to load the spacex dataset.\n\nIn many cases the dataset to be analyzed is available as a .CSV (comma separated values) file, perhaps on the internet. Click on the link below to download and save the dataset (.CSV file):\n\n<a href=\"https://cf-courses-data.s3.us.cloud-object-storage.appdomain.cloud/IBM-DS0321EN-SkillsNetwork/labs/module_2/data/Spacex.csv?utm_medium=Exinfluencer&utm_source=Exinfluencer&utm_content=000026UJ&utm_term=10006555&utm_id=NA-SkillsNetwork-Channel-SkillsNetworkCoursesIBMDS0321ENSkillsNetwork26802033-2021-01-01\" target=\"_blank\">Spacex DataSet</a>\n"
        },
        {
            "cell_type": "markdown",
            "metadata": {},
            "source": "### Store the dataset in database table\n\n**it is highly recommended to manually load the table using the database console LOAD tool in DB2**.\n\n<img src = \"https://cf-courses-data.s3.us.cloud-object-storage.appdomain.cloud/IBM-DS0321EN-SkillsNetwork/labs/module_2/images/spacexload.png\">\n\nNow open the Db2 console, open the LOAD tool, Select / Drag the .CSV file for the  dataset, Next create a New Table, and then follow the steps on-screen instructions to load the data. Name the new table as follows:\n\n**SPACEXDATASET**\n\n**Follow these steps while using old DB2 UI which is having Open Console Screen**\n\n**Note:While loading Spacex dataset, ensure that detect datatypes is disabled. Later click on the pencil icon(edit option).**\n\n1.  Change the Date Format by manually typing DD-MM-YYYY and timestamp format as DD-MM-YYYY HH\\:MM:SS.\n\n    Here you should place the cursor at Date field and manually type as DD-MM-YYYY.\n\n2.  Change the PAYLOAD_MASS\\_\\_KG\\_  datatype  to INTEGER.\n\n<img src = \"https://cf-courses-data.s3.us.cloud-object-storage.appdomain.cloud/IBM-DS0321EN-SkillsNetwork/labs/module_2/images/spacexload2.png\">\n"
        },
        {
            "cell_type": "markdown",
            "metadata": {},
            "source": "**Changes to be considered when having DB2 instance with the new UI having Go to UI screen**\n\n*   Refer to this insruction in this <a href=\"https://cf-courses-data.s3.us.cloud-object-storage.appdomain.cloud/IBMDeveloperSkillsNetwork-DB0201EN-SkillsNetwork/labs/Labs_Coursera_V5/labs/Lab%20-%20Sign%20up%20for%20IBM%20Cloud%20-%20Create%20Db2%20service%20instance%20-%20Get%20started%20with%20the%20Db2%20console/instructional-labs.md.html?utm_medium=Exinfluencer&utm_source=Exinfluencer&utm_content=000026UJ&utm_term=10006555&utm_id=NA-SkillsNetwork-Channel-SkillsNetworkCoursesIBMDS0321ENSkillsNetwork26802033-2021-01-01\">link</a> for viewing  the new  Go to UI screen.\n\n*   Later click on **Data link(below SQL)**  in the Go to UI screen  and click on **Load Data** tab.\n\n*   Later browse for the downloaded spacex file.\n\n<img src=\"https://cf-courses-data.s3.us.cloud-object-storage.appdomain.cloud/IBM-DS0321EN-SkillsNetwork/labs/module_2/images/browsefile.png\" width=\"800\"/>\n\n*   Once done select the schema andload the file.\n\n <img src=\"https://cf-courses-data.s3.us.cloud-object-storage.appdomain.cloud/IBM-DS0321EN-SkillsNetwork/labs/module_2/images/spacexload3.png\" width=\"800\"/>\n"
        },
        {
            "cell_type": "code",
            "execution_count": 1,
            "metadata": {},
            "outputs": [
                {
                    "name": "stdout",
                    "output_type": "stream",
                    "text": "Collecting sqlalchemy==1.3.9\n  Downloading SQLAlchemy-1.3.9.tar.gz (6.0 MB)\n\u001b[K     |\u2588\u2588\u2588\u2588\u2588\u2588\u2588\u2588\u2588\u2588\u2588\u2588\u2588\u2588\u2588\u2588\u2588\u2588\u2588\u2588\u2588\u2588\u2588\u2588\u2588\u2588\u2588\u2588\u2588\u2588\u2588\u2588| 6.0 MB 15.1 MB/s eta 0:00:01\n\u001b[?25hBuilding wheels for collected packages: sqlalchemy\n  Building wheel for sqlalchemy (setup.py) ... \u001b[?25ldone\n\u001b[?25h  Created wheel for sqlalchemy: filename=SQLAlchemy-1.3.9-cp38-cp38-linux_x86_64.whl size=1209505 sha256=416bccb3ef4a14332538b9d358b87386d6b6c931cd827425fa4b1b4c67bb788d\n  Stored in directory: /tmp/wsuser/.cache/pip/wheels/cb/43/46/fa638f2422554332b7865d600275b24568bf60e76104a94bb4\nSuccessfully built sqlalchemy\nInstalling collected packages: sqlalchemy\n  Attempting uninstall: sqlalchemy\n    Found existing installation: SQLAlchemy 1.4.22\n    Uninstalling SQLAlchemy-1.4.22:\n      Successfully uninstalled SQLAlchemy-1.4.22\nSuccessfully installed sqlalchemy-1.3.9\nRequirement already satisfied: ibm_db_sa in /opt/conda/envs/Python-3.8-main/lib/python3.8/site-packages (0.3.7)\nRequirement already satisfied: ibm-db>=2.0.0 in /opt/conda/envs/Python-3.8-main/lib/python3.8/site-packages (from ibm_db_sa) (3.0.4)\nRequirement already satisfied: sqlalchemy>=0.7.3 in /opt/conda/envs/Python-3.8-main/lib/python3.8/site-packages (from ibm_db_sa) (1.3.9)\nCollecting ipython-sql\n  Downloading ipython_sql-0.4.0-py3-none-any.whl (19 kB)\nRequirement already satisfied: sqlalchemy>=0.6.7 in /opt/conda/envs/Python-3.8-main/lib/python3.8/site-packages (from ipython-sql) (1.3.9)\nRequirement already satisfied: ipython-genutils>=0.1.0 in /opt/conda/envs/Python-3.8-main/lib/python3.8/site-packages (from ipython-sql) (0.2.0)\nRequirement already satisfied: ipython>=1.0 in /opt/conda/envs/Python-3.8-main/lib/python3.8/site-packages (from ipython-sql) (7.27.0)\nRequirement already satisfied: six in /opt/conda/envs/Python-3.8-main/lib/python3.8/site-packages (from ipython-sql) (1.15.0)\nCollecting prettytable<1\n  Downloading prettytable-0.7.2.zip (28 kB)\nCollecting sqlparse\n  Downloading sqlparse-0.4.2-py3-none-any.whl (42 kB)\n\u001b[K     |\u2588\u2588\u2588\u2588\u2588\u2588\u2588\u2588\u2588\u2588\u2588\u2588\u2588\u2588\u2588\u2588\u2588\u2588\u2588\u2588\u2588\u2588\u2588\u2588\u2588\u2588\u2588\u2588\u2588\u2588\u2588\u2588| 42 kB 2.3 MB/s  eta 0:00:01\n\u001b[?25hRequirement already satisfied: jedi>=0.16 in /opt/conda/envs/Python-3.8-main/lib/python3.8/site-packages (from ipython>=1.0->ipython-sql) (0.17.2)\nRequirement already satisfied: decorator in /opt/conda/envs/Python-3.8-main/lib/python3.8/site-packages (from ipython>=1.0->ipython-sql) (5.0.9)\nRequirement already satisfied: prompt-toolkit!=3.0.0,!=3.0.1,<3.1.0,>=2.0.0 in /opt/conda/envs/Python-3.8-main/lib/python3.8/site-packages (from ipython>=1.0->ipython-sql) (3.0.20)\nRequirement already satisfied: matplotlib-inline in /opt/conda/envs/Python-3.8-main/lib/python3.8/site-packages (from ipython>=1.0->ipython-sql) (0.1.2)\nRequirement already satisfied: pexpect>4.3 in /opt/conda/envs/Python-3.8-main/lib/python3.8/site-packages (from ipython>=1.0->ipython-sql) (4.8.0)\nRequirement already satisfied: backcall in /opt/conda/envs/Python-3.8-main/lib/python3.8/site-packages (from ipython>=1.0->ipython-sql) (0.2.0)\nRequirement already satisfied: traitlets>=4.2 in /opt/conda/envs/Python-3.8-main/lib/python3.8/site-packages (from ipython>=1.0->ipython-sql) (5.0.5)\nRequirement already satisfied: pygments in /opt/conda/envs/Python-3.8-main/lib/python3.8/site-packages (from ipython>=1.0->ipython-sql) (2.9.0)\nRequirement already satisfied: pickleshare in /opt/conda/envs/Python-3.8-main/lib/python3.8/site-packages (from ipython>=1.0->ipython-sql) (0.7.5)\nRequirement already satisfied: setuptools>=18.5 in /opt/conda/envs/Python-3.8-main/lib/python3.8/site-packages (from ipython>=1.0->ipython-sql) (52.0.0.post20211006)\nRequirement already satisfied: parso<0.8.0,>=0.7.0 in /opt/conda/envs/Python-3.8-main/lib/python3.8/site-packages (from jedi>=0.16->ipython>=1.0->ipython-sql) (0.7.0)\nRequirement already satisfied: ptyprocess>=0.5 in /opt/conda/envs/Python-3.8-main/lib/python3.8/site-packages (from pexpect>4.3->ipython>=1.0->ipython-sql) (0.7.0)\nRequirement already satisfied: wcwidth in /opt/conda/envs/Python-3.8-main/lib/python3.8/site-packages (from prompt-toolkit!=3.0.0,!=3.0.1,<3.1.0,>=2.0.0->ipython>=1.0->ipython-sql) (0.2.5)\nBuilding wheels for collected packages: prettytable\n  Building wheel for prettytable (setup.py) ... \u001b[?25ldone\n\u001b[?25h  Created wheel for prettytable: filename=prettytable-0.7.2-py3-none-any.whl size=13700 sha256=e599b1af5a98d6dbb3df8c9e9d669474e5229e5bfd361d9b2b0a97f119c0153d\n  Stored in directory: /tmp/wsuser/.cache/pip/wheels/48/6d/77/9517cb933af254f51a446f1a5ec9c2be3e45f17384940bce68\nSuccessfully built prettytable\nInstalling collected packages: sqlparse, prettytable, ipython-sql\nSuccessfully installed ipython-sql-0.4.0 prettytable-0.7.2 sqlparse-0.4.2\n"
                }
            ],
            "source": "!pip install sqlalchemy==1.3.9\n!pip install ibm_db_sa\n!pip install ipython-sql"
        },
        {
            "cell_type": "markdown",
            "metadata": {},
            "source": "### Connect to the database\n\nLet us first load the SQL extension and establish a connection with the database\n"
        },
        {
            "cell_type": "code",
            "execution_count": 2,
            "metadata": {},
            "outputs": [],
            "source": "%load_ext sql"
        },
        {
            "cell_type": "markdown",
            "metadata": {},
            "source": "**DB2 magic in case of old UI service credentials.**\n\nIn the next cell enter your db2 connection string. Recall you created Service Credentials for your Db2 instance before. From the **uri** field of your Db2 service credentials copy everything after db2:// (except the double quote at the end) and paste it in the cell below after ibm_db_sa://\n\n<img src =\"https://cf-courses-data.s3.us.cloud-object-storage.appdomain.cloud/IBMDeveloperSkillsNetwork-DB0201EN-SkillsNetwork/labs/FinalModule_edX/images/URI.jpg\">\n\nin the following format\n\n**%sql ibm_db_sa://my-username:my-password\\@my-hostname:my-port/my-db-name**\n\n**DB2 magic in case of new UI service credentials.**\n\n<img src =\"https://cf-courses-data.s3.us.cloud-object-storage.appdomain.cloud/IBM-DS0321EN-SkillsNetwork/labs/module_2/images/servicecredentials.png\" width=600>  \n\n*   Use the following format.\n\n*   Add security=SSL at the end\n\n**%sql ibm_db_sa://my-username:my-password\\@my-hostname:my-port/my-db-name?security=SSL**\n"
        },
        {
            "cell_type": "code",
            "execution_count": null,
            "metadata": {},
            "outputs": [],
            "source": ""
        },
        {
            "cell_type": "code",
            "execution_count": null,
            "metadata": {},
            "outputs": [],
            "source": ""
        },
        {
            "cell_type": "code",
            "execution_count": 4,
            "metadata": {},
            "outputs": [],
            "source": "%sql ibm_db_sa://zzd84627:mJCFYuu3UnakfWBw@21fecfd8-47b7-4937-840d-d791d0218660.bs2io90l08kqb1od8lcg.databases.appdomain.cloud:31864/BLUDB?security=SSL"
        },
        {
            "cell_type": "code",
            "execution_count": 15,
            "metadata": {},
            "outputs": [
                {
                    "name": "stdout",
                    "output_type": "stream",
                    "text": " * ibm_db_sa://zzd84627:***@21fecfd8-47b7-4937-840d-d791d0218660.bs2io90l08kqb1od8lcg.databases.appdomain.cloud:31864/BLUDB\nDone.\n"
                },
                {
                    "data": {
                        "text/html": "<table>\n    <tr>\n        <th>tabschema</th>\n        <th>tabname</th>\n        <th>colname</th>\n        <th>colno</th>\n        <th>typeschema</th>\n        <th>typename</th>\n        <th>length</th>\n        <th>scale</th>\n        <th>typestringunits</th>\n        <th>stringunitslength</th>\n        <th>DEFAULT</th>\n        <th>NULLS</th>\n        <th>codepage</th>\n        <th>collationschema</th>\n        <th>collationname</th>\n        <th>logged</th>\n        <th>compact</th>\n        <th>colcard</th>\n        <th>high2key</th>\n        <th>low2key</th>\n        <th>avgcollen</th>\n        <th>keyseq</th>\n        <th>partkeyseq</th>\n        <th>nquantiles</th>\n        <th>nmostfreq</th>\n        <th>numnulls</th>\n        <th>target_typeschema</th>\n        <th>target_typename</th>\n        <th>scope_tabschema</th>\n        <th>scope_tabname</th>\n        <th>source_tabschema</th>\n        <th>source_tabname</th>\n        <th>dl_features</th>\n        <th>special_props</th>\n        <th>hidden</th>\n        <th>inline_length</th>\n        <th>pctinlined</th>\n        <th>IDENTITY</th>\n        <th>rowchangetimestamp</th>\n        <th>GENERATED</th>\n        <th>text</th>\n        <th>compress</th>\n        <th>avgdistinctperpage</th>\n        <th>pagevarianceratio</th>\n        <th>sub_count</th>\n        <th>sub_delim_length</th>\n        <th>avgcollenchar</th>\n        <th>implicitvalue</th>\n        <th>seclabelname</th>\n        <th>rowbegin</th>\n        <th>rowend</th>\n        <th>transactionstartid</th>\n        <th>pctencoded</th>\n        <th>avgencodedcollen</th>\n        <th>qualifier</th>\n        <th>func_path</th>\n        <th>randdistkey</th>\n        <th>remarks</th>\n    </tr>\n    <tr>\n        <td>ZZD84627</td>\n        <td>SPACEXTBL</td>\n        <td>DATE</td>\n        <td>0</td>\n        <td>SYSIBM  </td>\n        <td>DATE</td>\n        <td>4</td>\n        <td>0</td>\n        <td>None</td>\n        <td>None</td>\n        <td>None</td>\n        <td>Y</td>\n        <td>0</td>\n        <td>None</td>\n        <td>None</td>\n        <td> </td>\n        <td> </td>\n        <td>101</td>\n        <td>&#x27;2020-11-25&#x27;</td>\n        <td>&#x27;2010-12-08&#x27;</td>\n        <td>5</td>\n        <td>None</td>\n        <td>0</td>\n        <td>20</td>\n        <td>10</td>\n        <td>0</td>\n        <td>None</td>\n        <td>None</td>\n        <td>None</td>\n        <td>None</td>\n        <td>None</td>\n        <td>None</td>\n        <td>None</td>\n        <td>None</td>\n        <td> </td>\n        <td>0</td>\n        <td>-1</td>\n        <td>N</td>\n        <td>N</td>\n        <td> </td>\n        <td>None</td>\n        <td>O</td>\n        <td>None</td>\n        <td>-1.0</td>\n        <td>-1</td>\n        <td>-1</td>\n        <td>-1</td>\n        <td>None</td>\n        <td>None</td>\n        <td>N</td>\n        <td>N</td>\n        <td>N</td>\n        <td>-1</td>\n        <td>-1.0</td>\n        <td>None</td>\n        <td>None</td>\n        <td>N</td>\n        <td>None</td>\n    </tr>\n    <tr>\n        <td>ZZD84627</td>\n        <td>SPACEXTBL</td>\n        <td>TIME__UTC_</td>\n        <td>1</td>\n        <td>SYSIBM  </td>\n        <td>TIME</td>\n        <td>3</td>\n        <td>0</td>\n        <td>None</td>\n        <td>None</td>\n        <td>None</td>\n        <td>Y</td>\n        <td>0</td>\n        <td>None</td>\n        <td>None</td>\n        <td> </td>\n        <td> </td>\n        <td>97</td>\n        <td>&#x27;23.35.00&#x27;</td>\n        <td>&#x27;00.27.00&#x27;</td>\n        <td>4</td>\n        <td>None</td>\n        <td>0</td>\n        <td>20</td>\n        <td>10</td>\n        <td>0</td>\n        <td>None</td>\n        <td>None</td>\n        <td>None</td>\n        <td>None</td>\n        <td>None</td>\n        <td>None</td>\n        <td>None</td>\n        <td>None</td>\n        <td> </td>\n        <td>0</td>\n        <td>-1</td>\n        <td>N</td>\n        <td>N</td>\n        <td> </td>\n        <td>None</td>\n        <td>O</td>\n        <td>None</td>\n        <td>-1.0</td>\n        <td>-1</td>\n        <td>-1</td>\n        <td>-1</td>\n        <td>None</td>\n        <td>None</td>\n        <td>N</td>\n        <td>N</td>\n        <td>N</td>\n        <td>-1</td>\n        <td>-1.0</td>\n        <td>None</td>\n        <td>None</td>\n        <td>N</td>\n        <td>None</td>\n    </tr>\n    <tr>\n        <td>ZZD84627</td>\n        <td>SPACEXTBL</td>\n        <td>BOOSTER_VERSION</td>\n        <td>2</td>\n        <td>SYSIBM  </td>\n        <td>VARCHAR</td>\n        <td>14</td>\n        <td>0</td>\n        <td>OCTETS</td>\n        <td>14</td>\n        <td>None</td>\n        <td>Y</td>\n        <td>1208</td>\n        <td>SYSIBM</td>\n        <td>IDENTITY</td>\n        <td> </td>\n        <td> </td>\n        <td>97</td>\n        <td>&#x27;F9 v1.1 B1017&#x27;</td>\n        <td>&#x27;F9 B4  B1040.2&#x27;</td>\n        <td>18</td>\n        <td>None</td>\n        <td>0</td>\n        <td>20</td>\n        <td>10</td>\n        <td>0</td>\n        <td>None</td>\n        <td>None</td>\n        <td>None</td>\n        <td>None</td>\n        <td>None</td>\n        <td>None</td>\n        <td>None</td>\n        <td>None</td>\n        <td> </td>\n        <td>0</td>\n        <td>-1</td>\n        <td>N</td>\n        <td>N</td>\n        <td> </td>\n        <td>None</td>\n        <td>O</td>\n        <td>None</td>\n        <td>-1.0</td>\n        <td>-1</td>\n        <td>-1</td>\n        <td>13</td>\n        <td>None</td>\n        <td>None</td>\n        <td>N</td>\n        <td>N</td>\n        <td>N</td>\n        <td>-1</td>\n        <td>-1.0</td>\n        <td>None</td>\n        <td>None</td>\n        <td>N</td>\n        <td>None</td>\n    </tr>\n    <tr>\n        <td>ZZD84627</td>\n        <td>SPACEXTBL</td>\n        <td>LAUNCH_SITE</td>\n        <td>3</td>\n        <td>SYSIBM  </td>\n        <td>VARCHAR</td>\n        <td>12</td>\n        <td>0</td>\n        <td>OCTETS</td>\n        <td>12</td>\n        <td>None</td>\n        <td>Y</td>\n        <td>1208</td>\n        <td>SYSIBM</td>\n        <td>IDENTITY</td>\n        <td> </td>\n        <td> </td>\n        <td>4</td>\n        <td>&#x27;KSC LC-39A&#x27;</td>\n        <td>&#x27;CCAFS SLC-40&#x27;</td>\n        <td>16</td>\n        <td>None</td>\n        <td>0</td>\n        <td>20</td>\n        <td>10</td>\n        <td>0</td>\n        <td>None</td>\n        <td>None</td>\n        <td>None</td>\n        <td>None</td>\n        <td>None</td>\n        <td>None</td>\n        <td>None</td>\n        <td>None</td>\n        <td> </td>\n        <td>0</td>\n        <td>-1</td>\n        <td>N</td>\n        <td>N</td>\n        <td> </td>\n        <td>None</td>\n        <td>O</td>\n        <td>None</td>\n        <td>-1.0</td>\n        <td>-1</td>\n        <td>-1</td>\n        <td>11</td>\n        <td>None</td>\n        <td>None</td>\n        <td>N</td>\n        <td>N</td>\n        <td>N</td>\n        <td>-1</td>\n        <td>-1.0</td>\n        <td>None</td>\n        <td>None</td>\n        <td>N</td>\n        <td>None</td>\n    </tr>\n    <tr>\n        <td>ZZD84627</td>\n        <td>SPACEXTBL</td>\n        <td>PAYLOAD</td>\n        <td>4</td>\n        <td>SYSIBM  </td>\n        <td>VARCHAR</td>\n        <td>61</td>\n        <td>0</td>\n        <td>OCTETS</td>\n        <td>61</td>\n        <td>None</td>\n        <td>Y</td>\n        <td>1208</td>\n        <td>SYSIBM</td>\n        <td>IDENTITY</td>\n        <td> </td>\n        <td> </td>\n        <td>101</td>\n        <td>&#x27;Turkmen 52 / MonacoSAT&#x27;</td>\n        <td>&#x27;ABS-3A Eutelsat 115 West B&#x27;</td>\n        <td>26</td>\n        <td>None</td>\n        <td>0</td>\n        <td>20</td>\n        <td>10</td>\n        <td>0</td>\n        <td>None</td>\n        <td>None</td>\n        <td>None</td>\n        <td>None</td>\n        <td>None</td>\n        <td>None</td>\n        <td>None</td>\n        <td>None</td>\n        <td> </td>\n        <td>0</td>\n        <td>-1</td>\n        <td>N</td>\n        <td>N</td>\n        <td> </td>\n        <td>None</td>\n        <td>O</td>\n        <td>None</td>\n        <td>-1.0</td>\n        <td>-1</td>\n        <td>-1</td>\n        <td>21</td>\n        <td>None</td>\n        <td>None</td>\n        <td>N</td>\n        <td>N</td>\n        <td>N</td>\n        <td>-1</td>\n        <td>-1.0</td>\n        <td>None</td>\n        <td>None</td>\n        <td>N</td>\n        <td>None</td>\n    </tr>\n    <tr>\n        <td>ZZD84627</td>\n        <td>SPACEXTBL</td>\n        <td>PAYLOAD_MASS__KG_</td>\n        <td>5</td>\n        <td>SYSIBM  </td>\n        <td>INTEGER</td>\n        <td>4</td>\n        <td>0</td>\n        <td>None</td>\n        <td>None</td>\n        <td>None</td>\n        <td>Y</td>\n        <td>0</td>\n        <td>None</td>\n        <td>None</td>\n        <td> </td>\n        <td> </td>\n        <td>78</td>\n        <td>15440</td>\n        <td>362</td>\n        <td>5</td>\n        <td>None</td>\n        <td>0</td>\n        <td>20</td>\n        <td>10</td>\n        <td>0</td>\n        <td>None</td>\n        <td>None</td>\n        <td>None</td>\n        <td>None</td>\n        <td>None</td>\n        <td>None</td>\n        <td>None</td>\n        <td>None</td>\n        <td> </td>\n        <td>0</td>\n        <td>-1</td>\n        <td>N</td>\n        <td>N</td>\n        <td> </td>\n        <td>None</td>\n        <td>O</td>\n        <td>None</td>\n        <td>-1.0</td>\n        <td>-1</td>\n        <td>-1</td>\n        <td>-1</td>\n        <td>None</td>\n        <td>None</td>\n        <td>N</td>\n        <td>N</td>\n        <td>N</td>\n        <td>-1</td>\n        <td>-1.0</td>\n        <td>None</td>\n        <td>None</td>\n        <td>N</td>\n        <td>None</td>\n    </tr>\n    <tr>\n        <td>ZZD84627</td>\n        <td>SPACEXTBL</td>\n        <td>ORBIT</td>\n        <td>6</td>\n        <td>SYSIBM  </td>\n        <td>VARCHAR</td>\n        <td>11</td>\n        <td>0</td>\n        <td>OCTETS</td>\n        <td>11</td>\n        <td>None</td>\n        <td>Y</td>\n        <td>1208</td>\n        <td>SYSIBM</td>\n        <td>IDENTITY</td>\n        <td> </td>\n        <td> </td>\n        <td>8</td>\n        <td>&#x27;SSO&#x27;</td>\n        <td>&#x27;HEO&#x27;</td>\n        <td>10</td>\n        <td>None</td>\n        <td>0</td>\n        <td>20</td>\n        <td>10</td>\n        <td>0</td>\n        <td>None</td>\n        <td>None</td>\n        <td>None</td>\n        <td>None</td>\n        <td>None</td>\n        <td>None</td>\n        <td>None</td>\n        <td>None</td>\n        <td> </td>\n        <td>0</td>\n        <td>-1</td>\n        <td>N</td>\n        <td>N</td>\n        <td> </td>\n        <td>None</td>\n        <td>O</td>\n        <td>None</td>\n        <td>-1.0</td>\n        <td>-1</td>\n        <td>-1</td>\n        <td>5</td>\n        <td>None</td>\n        <td>None</td>\n        <td>N</td>\n        <td>N</td>\n        <td>N</td>\n        <td>-1</td>\n        <td>-1.0</td>\n        <td>None</td>\n        <td>None</td>\n        <td>N</td>\n        <td>None</td>\n    </tr>\n    <tr>\n        <td>ZZD84627</td>\n        <td>SPACEXTBL</td>\n        <td>CUSTOMER</td>\n        <td>7</td>\n        <td>SYSIBM  </td>\n        <td>VARCHAR</td>\n        <td>57</td>\n        <td>0</td>\n        <td>OCTETS</td>\n        <td>57</td>\n        <td>None</td>\n        <td>Y</td>\n        <td>1208</td>\n        <td>SYSIBM</td>\n        <td>IDENTITY</td>\n        <td> </td>\n        <td> </td>\n        <td>53</td>\n        <td>&#x27;USAF&#x27;</td>\n        <td>&#x27;AsiaSat&#x27;</td>\n        <td>18</td>\n        <td>None</td>\n        <td>0</td>\n        <td>20</td>\n        <td>10</td>\n        <td>0</td>\n        <td>None</td>\n        <td>None</td>\n        <td>None</td>\n        <td>None</td>\n        <td>None</td>\n        <td>None</td>\n        <td>None</td>\n        <td>None</td>\n        <td> </td>\n        <td>0</td>\n        <td>-1</td>\n        <td>N</td>\n        <td>N</td>\n        <td> </td>\n        <td>None</td>\n        <td>O</td>\n        <td>None</td>\n        <td>-1.0</td>\n        <td>-1</td>\n        <td>-1</td>\n        <td>13</td>\n        <td>None</td>\n        <td>None</td>\n        <td>N</td>\n        <td>N</td>\n        <td>N</td>\n        <td>-1</td>\n        <td>-1.0</td>\n        <td>None</td>\n        <td>None</td>\n        <td>N</td>\n        <td>None</td>\n    </tr>\n    <tr>\n        <td>ZZD84627</td>\n        <td>SPACEXTBL</td>\n        <td>MISSION_OUTCOME</td>\n        <td>8</td>\n        <td>SYSIBM  </td>\n        <td>VARCHAR</td>\n        <td>32</td>\n        <td>0</td>\n        <td>OCTETS</td>\n        <td>32</td>\n        <td>None</td>\n        <td>Y</td>\n        <td>1208</td>\n        <td>SYSIBM</td>\n        <td>IDENTITY</td>\n        <td> </td>\n        <td> </td>\n        <td>3</td>\n        <td>&#x27;Success (payload status unclear)&#x27;</td>\n        <td>&#x27;Failure (in flight)&#x27;</td>\n        <td>12</td>\n        <td>None</td>\n        <td>0</td>\n        <td>20</td>\n        <td>10</td>\n        <td>0</td>\n        <td>None</td>\n        <td>None</td>\n        <td>None</td>\n        <td>None</td>\n        <td>None</td>\n        <td>None</td>\n        <td>None</td>\n        <td>None</td>\n        <td> </td>\n        <td>0</td>\n        <td>-1</td>\n        <td>N</td>\n        <td>N</td>\n        <td> </td>\n        <td>None</td>\n        <td>O</td>\n        <td>None</td>\n        <td>-1.0</td>\n        <td>-1</td>\n        <td>-1</td>\n        <td>7</td>\n        <td>None</td>\n        <td>None</td>\n        <td>N</td>\n        <td>N</td>\n        <td>N</td>\n        <td>-1</td>\n        <td>-1.0</td>\n        <td>None</td>\n        <td>None</td>\n        <td>N</td>\n        <td>None</td>\n    </tr>\n    <tr>\n        <td>ZZD84627</td>\n        <td>SPACEXTBL</td>\n        <td>LANDING__OUTCOME</td>\n        <td>9</td>\n        <td>SYSIBM  </td>\n        <td>VARCHAR</td>\n        <td>22</td>\n        <td>0</td>\n        <td>OCTETS</td>\n        <td>22</td>\n        <td>None</td>\n        <td>Y</td>\n        <td>1208</td>\n        <td>SYSIBM</td>\n        <td>IDENTITY</td>\n        <td> </td>\n        <td> </td>\n        <td>10</td>\n        <td>&#x27;Success (ground pad)&#x27;</td>\n        <td>&#x27;Failure&#x27;</td>\n        <td>17</td>\n        <td>None</td>\n        <td>0</td>\n        <td>20</td>\n        <td>10</td>\n        <td>0</td>\n        <td>None</td>\n        <td>None</td>\n        <td>None</td>\n        <td>None</td>\n        <td>None</td>\n        <td>None</td>\n        <td>None</td>\n        <td>None</td>\n        <td> </td>\n        <td>0</td>\n        <td>-1</td>\n        <td>N</td>\n        <td>N</td>\n        <td> </td>\n        <td>None</td>\n        <td>O</td>\n        <td>None</td>\n        <td>-1.0</td>\n        <td>-1</td>\n        <td>-1</td>\n        <td>12</td>\n        <td>None</td>\n        <td>None</td>\n        <td>N</td>\n        <td>N</td>\n        <td>N</td>\n        <td>-1</td>\n        <td>-1.0</td>\n        <td>None</td>\n        <td>None</td>\n        <td>N</td>\n        <td>None</td>\n    </tr>\n</table>",
                        "text/plain": "[('ZZD84627', 'SPACEXTBL', 'DATE', 0, 'SYSIBM  ', 'DATE', 4, 0, None, None, None, 'Y', 0, None, None, ' ', ' ', 101, \"'2020-11-25'\", \"'2010-12-08'\", 5, None, 0, 20, 10, 0, None, None, None, None, None, None, None, None, ' ', 0, -1, 'N', 'N', ' ', None, 'O', None, -1.0, -1, -1, -1, None, None, 'N', 'N', 'N', -1, -1.0, None, None, 'N', None),\n ('ZZD84627', 'SPACEXTBL', 'TIME__UTC_', 1, 'SYSIBM  ', 'TIME', 3, 0, None, None, None, 'Y', 0, None, None, ' ', ' ', 97, \"'23.35.00'\", \"'00.27.00'\", 4, None, 0, 20, 10, 0, None, None, None, None, None, None, None, None, ' ', 0, -1, 'N', 'N', ' ', None, 'O', None, -1.0, -1, -1, -1, None, None, 'N', 'N', 'N', -1, -1.0, None, None, 'N', None),\n ('ZZD84627', 'SPACEXTBL', 'BOOSTER_VERSION', 2, 'SYSIBM  ', 'VARCHAR', 14, 0, 'OCTETS', 14, None, 'Y', 1208, 'SYSIBM', 'IDENTITY', ' ', ' ', 97, \"'F9 v1.1 B1017'\", \"'F9 B4  B1040.2'\", 18, None, 0, 20, 10, 0, None, None, None, None, None, None, None, None, ' ', 0, -1, 'N', 'N', ' ', None, 'O', None, -1.0, -1, -1, 13, None, None, 'N', 'N', 'N', -1, -1.0, None, None, 'N', None),\n ('ZZD84627', 'SPACEXTBL', 'LAUNCH_SITE', 3, 'SYSIBM  ', 'VARCHAR', 12, 0, 'OCTETS', 12, None, 'Y', 1208, 'SYSIBM', 'IDENTITY', ' ', ' ', 4, \"'KSC LC-39A'\", \"'CCAFS SLC-40'\", 16, None, 0, 20, 10, 0, None, None, None, None, None, None, None, None, ' ', 0, -1, 'N', 'N', ' ', None, 'O', None, -1.0, -1, -1, 11, None, None, 'N', 'N', 'N', -1, -1.0, None, None, 'N', None),\n ('ZZD84627', 'SPACEXTBL', 'PAYLOAD', 4, 'SYSIBM  ', 'VARCHAR', 61, 0, 'OCTETS', 61, None, 'Y', 1208, 'SYSIBM', 'IDENTITY', ' ', ' ', 101, \"'Turkmen 52 / MonacoSAT'\", \"'ABS-3A Eutelsat 115 West B'\", 26, None, 0, 20, 10, 0, None, None, None, None, None, None, None, None, ' ', 0, -1, 'N', 'N', ' ', None, 'O', None, -1.0, -1, -1, 21, None, None, 'N', 'N', 'N', -1, -1.0, None, None, 'N', None),\n ('ZZD84627', 'SPACEXTBL', 'PAYLOAD_MASS__KG_', 5, 'SYSIBM  ', 'INTEGER', 4, 0, None, None, None, 'Y', 0, None, None, ' ', ' ', 78, '15440', '362', 5, None, 0, 20, 10, 0, None, None, None, None, None, None, None, None, ' ', 0, -1, 'N', 'N', ' ', None, 'O', None, -1.0, -1, -1, -1, None, None, 'N', 'N', 'N', -1, -1.0, None, None, 'N', None),\n ('ZZD84627', 'SPACEXTBL', 'ORBIT', 6, 'SYSIBM  ', 'VARCHAR', 11, 0, 'OCTETS', 11, None, 'Y', 1208, 'SYSIBM', 'IDENTITY', ' ', ' ', 8, \"'SSO'\", \"'HEO'\", 10, None, 0, 20, 10, 0, None, None, None, None, None, None, None, None, ' ', 0, -1, 'N', 'N', ' ', None, 'O', None, -1.0, -1, -1, 5, None, None, 'N', 'N', 'N', -1, -1.0, None, None, 'N', None),\n ('ZZD84627', 'SPACEXTBL', 'CUSTOMER', 7, 'SYSIBM  ', 'VARCHAR', 57, 0, 'OCTETS', 57, None, 'Y', 1208, 'SYSIBM', 'IDENTITY', ' ', ' ', 53, \"'USAF'\", \"'AsiaSat'\", 18, None, 0, 20, 10, 0, None, None, None, None, None, None, None, None, ' ', 0, -1, 'N', 'N', ' ', None, 'O', None, -1.0, -1, -1, 13, None, None, 'N', 'N', 'N', -1, -1.0, None, None, 'N', None),\n ('ZZD84627', 'SPACEXTBL', 'MISSION_OUTCOME', 8, 'SYSIBM  ', 'VARCHAR', 32, 0, 'OCTETS', 32, None, 'Y', 1208, 'SYSIBM', 'IDENTITY', ' ', ' ', 3, \"'Success (payload status unclear)'\", \"'Failure (in flight)'\", 12, None, 0, 20, 10, 0, None, None, None, None, None, None, None, None, ' ', 0, -1, 'N', 'N', ' ', None, 'O', None, -1.0, -1, -1, 7, None, None, 'N', 'N', 'N', -1, -1.0, None, None, 'N', None),\n ('ZZD84627', 'SPACEXTBL', 'LANDING__OUTCOME', 9, 'SYSIBM  ', 'VARCHAR', 22, 0, 'OCTETS', 22, None, 'Y', 1208, 'SYSIBM', 'IDENTITY', ' ', ' ', 10, \"'Success (ground pad)'\", \"'Failure'\", 17, None, 0, 20, 10, 0, None, None, None, None, None, None, None, None, ' ', 0, -1, 'N', 'N', ' ', None, 'O', None, -1.0, -1, -1, 12, None, None, 'N', 'N', 'N', -1, -1.0, None, None, 'N', None)]"
                    },
                    "execution_count": 15,
                    "metadata": {},
                    "output_type": "execute_result"
                }
            ],
            "source": "%sql SELECT * FROM SYSCAT.COLUMNS WHERE TABNAME='SPACEXTBL'"
        },
        {
            "cell_type": "markdown",
            "metadata": {},
            "source": "## Tasks\n\nNow write and execute SQL queries to solve the assignment tasks.\n\n### Task 1\n\n##### Display the names of the unique launch sites  in the space mission\n"
        },
        {
            "cell_type": "code",
            "execution_count": 7,
            "metadata": {},
            "outputs": [
                {
                    "name": "stdout",
                    "output_type": "stream",
                    "text": " * ibm_db_sa://zzd84627:***@21fecfd8-47b7-4937-840d-d791d0218660.bs2io90l08kqb1od8lcg.databases.appdomain.cloud:31864/BLUDB\nDone.\n"
                },
                {
                    "data": {
                        "text/html": "<table>\n    <tr>\n        <th>launch_site</th>\n    </tr>\n    <tr>\n        <td>CCAFS LC-40</td>\n    </tr>\n    <tr>\n        <td>CCAFS SLC-40</td>\n    </tr>\n    <tr>\n        <td>KSC LC-39A</td>\n    </tr>\n    <tr>\n        <td>VAFB SLC-4E</td>\n    </tr>\n</table>",
                        "text/plain": "[('CCAFS LC-40',), ('CCAFS SLC-40',), ('KSC LC-39A',), ('VAFB SLC-4E',)]"
                    },
                    "execution_count": 7,
                    "metadata": {},
                    "output_type": "execute_result"
                }
            ],
            "source": "%sql SELECT DISTINCT LAUNCH_SITE FROM SPACEXTBL"
        },
        {
            "cell_type": "markdown",
            "metadata": {},
            "source": "### Task 2\n\n##### Display 5 records where launch sites begin with the string 'CCA'\n"
        },
        {
            "cell_type": "code",
            "execution_count": 8,
            "metadata": {},
            "outputs": [
                {
                    "name": "stdout",
                    "output_type": "stream",
                    "text": " * ibm_db_sa://zzd84627:***@21fecfd8-47b7-4937-840d-d791d0218660.bs2io90l08kqb1od8lcg.databases.appdomain.cloud:31864/BLUDB\nDone.\n"
                },
                {
                    "data": {
                        "text/html": "<table>\n    <tr>\n        <th>launch_site</th>\n    </tr>\n    <tr>\n        <td>CCAFS LC-40</td>\n    </tr>\n    <tr>\n        <td>CCAFS LC-40</td>\n    </tr>\n    <tr>\n        <td>CCAFS LC-40</td>\n    </tr>\n    <tr>\n        <td>CCAFS LC-40</td>\n    </tr>\n    <tr>\n        <td>CCAFS LC-40</td>\n    </tr>\n</table>",
                        "text/plain": "[('CCAFS LC-40',),\n ('CCAFS LC-40',),\n ('CCAFS LC-40',),\n ('CCAFS LC-40',),\n ('CCAFS LC-40',)]"
                    },
                    "execution_count": 8,
                    "metadata": {},
                    "output_type": "execute_result"
                }
            ],
            "source": "%sql SELECT LAUNCH_SITE FROM SPACEXTBL WHERE LAUNCH_SITE LIKE 'CCA%' LIMIT 5"
        },
        {
            "cell_type": "markdown",
            "metadata": {},
            "source": "### Task 3\n\n##### Display the total payload mass carried by boosters launched by NASA (CRS)\n"
        },
        {
            "cell_type": "code",
            "execution_count": 12,
            "metadata": {},
            "outputs": [
                {
                    "name": "stdout",
                    "output_type": "stream",
                    "text": " * ibm_db_sa://zzd84627:***@21fecfd8-47b7-4937-840d-d791d0218660.bs2io90l08kqb1od8lcg.databases.appdomain.cloud:31864/BLUDB\nDone.\n"
                },
                {
                    "data": {
                        "text/html": "<table>\n    <tr>\n        <th>total_payload_mass</th>\n    </tr>\n    <tr>\n        <td>45596</td>\n    </tr>\n</table>",
                        "text/plain": "[(45596,)]"
                    },
                    "execution_count": 12,
                    "metadata": {},
                    "output_type": "execute_result"
                }
            ],
            "source": "%sql SELECT SUM(payload_mass__kg_) As Total_Payload_Mass FROM SPACEXTBL WHERE Customer='NASA (CRS)'"
        },
        {
            "cell_type": "markdown",
            "metadata": {},
            "source": "### Task 4\n\n##### Display average payload mass carried by booster version F9 v1.1\n"
        },
        {
            "cell_type": "code",
            "execution_count": 22,
            "metadata": {},
            "outputs": [
                {
                    "name": "stdout",
                    "output_type": "stream",
                    "text": " * ibm_db_sa://zzd84627:***@21fecfd8-47b7-4937-840d-d791d0218660.bs2io90l08kqb1od8lcg.databases.appdomain.cloud:31864/BLUDB\nDone.\n"
                },
                {
                    "data": {
                        "text/html": "<table>\n    <tr>\n        <th>average_payload_mass</th>\n    </tr>\n    <tr>\n        <td>2534</td>\n    </tr>\n</table>",
                        "text/plain": "[(2534,)]"
                    },
                    "execution_count": 22,
                    "metadata": {},
                    "output_type": "execute_result"
                }
            ],
            "source": "%sql SELECT AVG(PAYLOAD_MASS__KG_) AS AVERAGE_PAYLOAD_MASS \\\n    FROM SPACEXTBL WHERE BOOSTER_VERSION LIKE 'F9 v1.1%'"
        },
        {
            "cell_type": "markdown",
            "metadata": {},
            "source": "### Task 5\n\n##### List the date when the first successful landing outcome in ground pad was acheived.\n\n*Hint:Use min function*\n"
        },
        {
            "cell_type": "code",
            "execution_count": 25,
            "metadata": {},
            "outputs": [
                {
                    "name": "stdout",
                    "output_type": "stream",
                    "text": " * ibm_db_sa://zzd84627:***@21fecfd8-47b7-4937-840d-d791d0218660.bs2io90l08kqb1od8lcg.databases.appdomain.cloud:31864/BLUDB\nDone.\n"
                },
                {
                    "data": {
                        "text/html": "<table>\n    <tr>\n        <th>first_successful_landing</th>\n    </tr>\n    <tr>\n        <td>2015-12-22</td>\n    </tr>\n</table>",
                        "text/plain": "[(datetime.date(2015, 12, 22),)]"
                    },
                    "execution_count": 25,
                    "metadata": {},
                    "output_type": "execute_result"
                }
            ],
            "source": "%sql SELECT MIN(DATE) AS FIRST_SUCCESSFUL_LANDING FROM SPACEXTBL WHERE LANDING__OUTCOME = 'Success (ground pad)' "
        },
        {
            "cell_type": "markdown",
            "metadata": {},
            "source": "### Task 6\n\n##### List the names of the boosters which have success in drone ship and have payload mass greater than 4000 but less than 6000\n"
        },
        {
            "cell_type": "code",
            "execution_count": 33,
            "metadata": {},
            "outputs": [
                {
                    "name": "stdout",
                    "output_type": "stream",
                    "text": " * ibm_db_sa://zzd84627:***@21fecfd8-47b7-4937-840d-d791d0218660.bs2io90l08kqb1od8lcg.databases.appdomain.cloud:31864/BLUDB\nDone.\n"
                },
                {
                    "data": {
                        "text/html": "<table>\n    <tr>\n        <th>booster_version</th>\n    </tr>\n    <tr>\n        <td>F9 FT  B1021.2</td>\n    </tr>\n    <tr>\n        <td>F9 FT  B1031.2</td>\n    </tr>\n    <tr>\n        <td>F9 FT B1022</td>\n    </tr>\n    <tr>\n        <td>F9 FT B1026</td>\n    </tr>\n</table>",
                        "text/plain": "[('F9 FT  B1021.2',), ('F9 FT  B1031.2',), ('F9 FT B1022',), ('F9 FT B1026',)]"
                    },
                    "execution_count": 33,
                    "metadata": {},
                    "output_type": "execute_result"
                }
            ],
            "source": "%sql SELECT DISTINCT BOOSTER_VERSION FROM SPACEXTBL WHERE LANDING__OUTCOME='Success (drone ship)' AND PAYLOAD_MASS__KG_ > 4000 AND PAYLOAD_MASS__KG_ < 6000"
        },
        {
            "cell_type": "markdown",
            "metadata": {},
            "source": "### Task 7\n\n##### List the total number of successful and failure mission outcomes\n"
        },
        {
            "cell_type": "code",
            "execution_count": 36,
            "metadata": {},
            "outputs": [
                {
                    "name": "stdout",
                    "output_type": "stream",
                    "text": " * ibm_db_sa://zzd84627:***@21fecfd8-47b7-4937-840d-d791d0218660.bs2io90l08kqb1od8lcg.databases.appdomain.cloud:31864/BLUDB\nDone.\n"
                },
                {
                    "data": {
                        "text/html": "<table>\n    <tr>\n        <th>mission_outcome</th>\n        <th>total_outcomes</th>\n    </tr>\n    <tr>\n        <td>Failure (in flight)</td>\n        <td>1</td>\n    </tr>\n    <tr>\n        <td>Success</td>\n        <td>99</td>\n    </tr>\n    <tr>\n        <td>Success (payload status unclear)</td>\n        <td>1</td>\n    </tr>\n</table>",
                        "text/plain": "[('Failure (in flight)', 1),\n ('Success', 99),\n ('Success (payload status unclear)', 1)]"
                    },
                    "execution_count": 36,
                    "metadata": {},
                    "output_type": "execute_result"
                }
            ],
            "source": "%sql SELECT MISSION_OUTCOME, COUNT(*) AS TOTAL_OUTCOMES FROM SPACEXTBL GROUP BY MISSION_OUTCOME"
        },
        {
            "cell_type": "markdown",
            "metadata": {},
            "source": "### Task 8\n\n##### List the   names of the booster_versions which have carried the maximum payload mass. Use a subquery\n"
        },
        {
            "cell_type": "code",
            "execution_count": 38,
            "metadata": {},
            "outputs": [
                {
                    "name": "stdout",
                    "output_type": "stream",
                    "text": " * ibm_db_sa://zzd84627:***@21fecfd8-47b7-4937-840d-d791d0218660.bs2io90l08kqb1od8lcg.databases.appdomain.cloud:31864/BLUDB\nDone.\n"
                },
                {
                    "data": {
                        "text/html": "<table>\n    <tr>\n        <th>booster_version</th>\n    </tr>\n    <tr>\n        <td>F9 B5 B1048.4</td>\n    </tr>\n    <tr>\n        <td>F9 B5 B1049.4</td>\n    </tr>\n    <tr>\n        <td>F9 B5 B1051.3</td>\n    </tr>\n    <tr>\n        <td>F9 B5 B1056.4</td>\n    </tr>\n    <tr>\n        <td>F9 B5 B1048.5</td>\n    </tr>\n    <tr>\n        <td>F9 B5 B1051.4</td>\n    </tr>\n    <tr>\n        <td>F9 B5 B1049.5</td>\n    </tr>\n    <tr>\n        <td>F9 B5 B1060.2</td>\n    </tr>\n    <tr>\n        <td>F9 B5 B1058.3</td>\n    </tr>\n    <tr>\n        <td>F9 B5 B1051.6</td>\n    </tr>\n    <tr>\n        <td>F9 B5 B1060.3</td>\n    </tr>\n    <tr>\n        <td>F9 B5 B1049.7</td>\n    </tr>\n</table>",
                        "text/plain": "[('F9 B5 B1048.4',),\n ('F9 B5 B1049.4',),\n ('F9 B5 B1051.3',),\n ('F9 B5 B1056.4',),\n ('F9 B5 B1048.5',),\n ('F9 B5 B1051.4',),\n ('F9 B5 B1049.5',),\n ('F9 B5 B1060.2',),\n ('F9 B5 B1058.3',),\n ('F9 B5 B1051.6',),\n ('F9 B5 B1060.3',),\n ('F9 B5 B1049.7',)]"
                    },
                    "execution_count": 38,
                    "metadata": {},
                    "output_type": "execute_result"
                }
            ],
            "source": "%sql SELECT BOOSTER_VERSION \\\n    FROM SPACEXTBL \\\n    WHERE PAYLOAD_MASS__KG_ = (SELECT MAX(PAYLOAD_MASS__KG_) FROM SPACEXTBL)"
        },
        {
            "cell_type": "markdown",
            "metadata": {},
            "source": "### Task 9\n\n##### List the failed landing_outcomes in drone ship, their booster versions, and launch site names for in year 2015\n"
        },
        {
            "cell_type": "code",
            "execution_count": 43,
            "metadata": {},
            "outputs": [
                {
                    "name": "stdout",
                    "output_type": "stream",
                    "text": " * ibm_db_sa://zzd84627:***@21fecfd8-47b7-4937-840d-d791d0218660.bs2io90l08kqb1od8lcg.databases.appdomain.cloud:31864/BLUDB\nDone.\n"
                },
                {
                    "data": {
                        "text/html": "<table>\n    <tr>\n        <th>landing__outcome</th>\n        <th>booster_version</th>\n        <th>launch_site</th>\n    </tr>\n    <tr>\n        <td>Failure (drone ship)</td>\n        <td>F9 v1.1 B1012</td>\n        <td>CCAFS LC-40</td>\n    </tr>\n    <tr>\n        <td>Failure (drone ship)</td>\n        <td>F9 v1.1 B1015</td>\n        <td>CCAFS LC-40</td>\n    </tr>\n</table>",
                        "text/plain": "[('Failure (drone ship)', 'F9 v1.1 B1012', 'CCAFS LC-40'),\n ('Failure (drone ship)', 'F9 v1.1 B1015', 'CCAFS LC-40')]"
                    },
                    "execution_count": 43,
                    "metadata": {},
                    "output_type": "execute_result"
                }
            ],
            "source": "#%sql SELECT * FROM SPACEXTBL LIMIT 5\n%sql SELECT LANDING__OUTCOME, BOOSTER_VERSION, LAUNCH_SITE FROM SPACEXTBL \\\n    WHERE LANDING__OUTCOME = 'Failure (drone ship)' AND YEAR(DATE)=2015"
        },
        {
            "cell_type": "markdown",
            "metadata": {},
            "source": "### Task 10\n\n##### Rank the count of landing outcomes (such as Failure (drone ship) or Success (ground pad)) between the date 2010-06-04 and 2017-03-20, in descending order\n"
        },
        {
            "cell_type": "code",
            "execution_count": 46,
            "metadata": {},
            "outputs": [
                {
                    "name": "stdout",
                    "output_type": "stream",
                    "text": " * ibm_db_sa://zzd84627:***@21fecfd8-47b7-4937-840d-d791d0218660.bs2io90l08kqb1od8lcg.databases.appdomain.cloud:31864/BLUDB\nDone.\n"
                },
                {
                    "data": {
                        "text/html": "<table>\n    <tr>\n        <th>landing__outcome</th>\n        <th>outcome_rank</th>\n    </tr>\n    <tr>\n        <td>No attempt</td>\n        <td>1</td>\n    </tr>\n    <tr>\n        <td>Success (ground pad)</td>\n        <td>2</td>\n    </tr>\n    <tr>\n        <td>Success (drone ship)</td>\n        <td>3</td>\n    </tr>\n    <tr>\n        <td>Success (drone ship)</td>\n        <td>4</td>\n    </tr>\n    <tr>\n        <td>Success (ground pad)</td>\n        <td>5</td>\n    </tr>\n    <tr>\n        <td>Failure (drone ship)</td>\n        <td>6</td>\n    </tr>\n    <tr>\n        <td>Success (drone ship)</td>\n        <td>7</td>\n    </tr>\n    <tr>\n        <td>Success (drone ship)</td>\n        <td>8</td>\n    </tr>\n    <tr>\n        <td>Success (drone ship)</td>\n        <td>9</td>\n    </tr>\n    <tr>\n        <td>Failure (drone ship)</td>\n        <td>10</td>\n    </tr>\n    <tr>\n        <td>Failure (drone ship)</td>\n        <td>11</td>\n    </tr>\n    <tr>\n        <td>Success (ground pad)</td>\n        <td>12</td>\n    </tr>\n    <tr>\n        <td>Precluded (drone ship)</td>\n        <td>13</td>\n    </tr>\n    <tr>\n        <td>No attempt</td>\n        <td>14</td>\n    </tr>\n    <tr>\n        <td>Failure (drone ship)</td>\n        <td>15</td>\n    </tr>\n    <tr>\n        <td>No attempt</td>\n        <td>16</td>\n    </tr>\n    <tr>\n        <td>Controlled (ocean)</td>\n        <td>17</td>\n    </tr>\n    <tr>\n        <td>Failure (drone ship)</td>\n        <td>18</td>\n    </tr>\n    <tr>\n        <td>Uncontrolled (ocean)</td>\n        <td>19</td>\n    </tr>\n    <tr>\n        <td>No attempt</td>\n        <td>20</td>\n    </tr>\n    <tr>\n        <td>No attempt</td>\n        <td>21</td>\n    </tr>\n    <tr>\n        <td>Controlled (ocean)</td>\n        <td>22</td>\n    </tr>\n    <tr>\n        <td>Controlled (ocean)</td>\n        <td>23</td>\n    </tr>\n    <tr>\n        <td>No attempt</td>\n        <td>24</td>\n    </tr>\n    <tr>\n        <td>No attempt</td>\n        <td>25</td>\n    </tr>\n    <tr>\n        <td>Uncontrolled (ocean)</td>\n        <td>26</td>\n    </tr>\n    <tr>\n        <td>No attempt</td>\n        <td>27</td>\n    </tr>\n    <tr>\n        <td>No attempt</td>\n        <td>28</td>\n    </tr>\n    <tr>\n        <td>No attempt</td>\n        <td>29</td>\n    </tr>\n    <tr>\n        <td>Failure (parachute)</td>\n        <td>30</td>\n    </tr>\n    <tr>\n        <td>Failure (parachute)</td>\n        <td>31</td>\n    </tr>\n</table>",
                        "text/plain": "[('No attempt', 1),\n ('Success (ground pad)', 2),\n ('Success (drone ship)', 3),\n ('Success (drone ship)', 4),\n ('Success (ground pad)', 5),\n ('Failure (drone ship)', 6),\n ('Success (drone ship)', 7),\n ('Success (drone ship)', 8),\n ('Success (drone ship)', 9),\n ('Failure (drone ship)', 10),\n ('Failure (drone ship)', 11),\n ('Success (ground pad)', 12),\n ('Precluded (drone ship)', 13),\n ('No attempt', 14),\n ('Failure (drone ship)', 15),\n ('No attempt', 16),\n ('Controlled (ocean)', 17),\n ('Failure (drone ship)', 18),\n ('Uncontrolled (ocean)', 19),\n ('No attempt', 20),\n ('No attempt', 21),\n ('Controlled (ocean)', 22),\n ('Controlled (ocean)', 23),\n ('No attempt', 24),\n ('No attempt', 25),\n ('Uncontrolled (ocean)', 26),\n ('No attempt', 27),\n ('No attempt', 28),\n ('No attempt', 29),\n ('Failure (parachute)', 30),\n ('Failure (parachute)', 31)]"
                    },
                    "execution_count": 46,
                    "metadata": {},
                    "output_type": "execute_result"
                }
            ],
            "source": "%sql SELECT LANDING__OUTCOME, RANK() OVER (ORDER BY DATE DESC) AS OUTCOME_RANK FROM SPACEXTBL WHERE DATE >= '2010-06-04' AND DATE <= '2017-03-20'"
        },
        {
            "cell_type": "markdown",
            "metadata": {},
            "source": "### Reference Links\n\n*   <a href =\"https://cf-courses-data.s3.us.cloud-object-storage.appdomain.cloud/IBMDeveloperSkillsNetwork-DB0201EN-SkillsNetwork/labs/Labs_Coursera_V5/labs/Lab%20-%20String%20Patterns%20-%20Sorting%20-%20Grouping/instructional-labs.md.html?utm_medium=Exinfluencer&utm_source=Exinfluencer&utm_content=000026UJ&utm_term=10006555&utm_id=NA-SkillsNetwork-Channel-SkillsNetworkCoursesIBMDS0321ENSkillsNetwork26802033-2021-01-01&origin=www.coursera.org\">Hands-on Lab : String Patterns, Sorting and Grouping</a>\n\n*   <a  href=\"https://cf-courses-data.s3.us.cloud-object-storage.appdomain.cloud/IBMDeveloperSkillsNetwork-DB0201EN-SkillsNetwork/labs/Labs_Coursera_V5/labs/Lab%20-%20Built-in%20functions%20/Hands-on_Lab__Built-in_Functions.md.html?utm_medium=Exinfluencer&utm_source=Exinfluencer&utm_content=000026UJ&utm_term=10006555&utm_id=NA-SkillsNetwork-Channel-SkillsNetworkCoursesIBMDS0321ENSkillsNetwork26802033-2021-01-01&origin=www.coursera.org\">Hands-on Lab: Built-in functions</a>\n\n*   <a  href=\"https://cf-courses-data.s3.us.cloud-object-storage.appdomain.cloud/IBMDeveloperSkillsNetwork-DB0201EN-SkillsNetwork/labs/Labs_Coursera_V5/labs/Lab%20-%20Sub-queries%20and%20Nested%20SELECTs%20/instructional-labs.md.html?utm_medium=Exinfluencer&utm_source=Exinfluencer&utm_content=000026UJ&utm_term=10006555&utm_id=NA-SkillsNetwork-Channel-SkillsNetworkCoursesIBMDS0321ENSkillsNetwork26802033-2021-01-01&origin=www.coursera.org\">Hands-on Lab : Sub-queries and Nested SELECT Statements</a>\n\n*   <a href=\"https://cf-courses-data.s3.us.cloud-object-storage.appdomain.cloud/IBMDeveloperSkillsNetwork-DB0201EN-SkillsNetwork/labs/Module%205/DB0201EN-Week3-1-3-SQLmagic.ipynb?utm_medium=Exinfluencer&utm_source=Exinfluencer&utm_content=000026UJ&utm_term=10006555&utm_id=NA-SkillsNetwork-Channel-SkillsNetworkCoursesIBMDS0321ENSkillsNetwork26802033-2021-01-01\">Hands-on Tutorial: Accessing Databases with SQL magic</a>\n\n*   <a href= \"https://cf-courses-data.s3.us.cloud-object-storage.appdomain.cloud/IBMDeveloperSkillsNetwork-DB0201EN-SkillsNetwork/labs/Module%205/DB0201EN-Week3-1-4-Analyzing.ipynb?utm_medium=Exinfluencer&utm_source=Exinfluencer&utm_content=000026UJ&utm_term=10006555&utm_id=NA-SkillsNetwork-Channel-SkillsNetworkCoursesIBMDS0321ENSkillsNetwork26802033-2021-01-01\">Hands-on Lab: Analyzing a real World Data Set</a>\n"
        },
        {
            "cell_type": "markdown",
            "metadata": {},
            "source": "## Author(s)\n\n<h4> Lakshmi Holla </h4>\n"
        },
        {
            "cell_type": "markdown",
            "metadata": {},
            "source": "## Other Contributors\n\n<h4> Rav Ahuja </h4>\n"
        },
        {
            "cell_type": "markdown",
            "metadata": {},
            "source": "## Change log\n\n| Date       | Version | Changed by    | Change Description        |\n| ---------- | ------- | ------------- | ------------------------- |\n| 2021-10-12 | 0.4     | Lakshmi Holla | Changed markdown          |\n| 2021-08-24 | 0.3     | Lakshmi Holla | Added library update      |\n| 2021-07-09 | 0.2     | Lakshmi Holla | Changes made in magic sql |\n| 2021-05-20 | 0.1     | Lakshmi Holla | Created Initial Version   |\n"
        },
        {
            "cell_type": "markdown",
            "metadata": {},
            "source": "## <h3 align=\"center\"> \u00a9 IBM Corporation 2021. All rights reserved. <h3/>\n"
        }
    ],
    "metadata": {
        "kernelspec": {
            "display_name": "Python 3.8",
            "language": "python",
            "name": "python3"
        },
        "language_info": {
            "codemirror_mode": {
                "name": "ipython",
                "version": 3
            },
            "file_extension": ".py",
            "mimetype": "text/x-python",
            "name": "python",
            "nbconvert_exporter": "python",
            "pygments_lexer": "ipython3",
            "version": "3.8.12"
        }
    },
    "nbformat": 4,
    "nbformat_minor": 4
}